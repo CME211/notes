{
 "cells": [
  {
   "cell_type": "markdown",
   "id": "ae25c612",
   "metadata": {},
   "source": [
    "## Exercise 1 \n",
    "\n",
    "### Question 1 : for n-sized A and m-sized B, how many operations does the function cart_product do?\n",
    "\n",
    "We will do n\\*m append operations. \n",
    "\n",
    "### Question 2 : what is the time complexity of list.append() method?\n",
    "Recall that list.append() method takes O(1) time.\n",
    "\n",
    "### Question 3 : what is the time complexity for function cart_product ?\n",
    "n\\*m\\*O(1) = O(n\\*m)"
   ]
  },
  {
   "cell_type": "code",
   "execution_count": 1,
   "id": "b1b0518c",
   "metadata": {},
   "outputs": [],
   "source": [
    "def cart_product(A, B):\n",
    "    \"\"\"\n",
    "        returns ordered cartesian product for lists A and B\n",
    "        \n",
    "        args:\n",
    "        -----\n",
    "            A : list of size n \n",
    "            B : list of size m\n",
    "        \n",
    "        returns:\n",
    "        --------\n",
    "            cart_prod : ordered list of tuples (a, b) such that \n",
    "                        a belongs to A and b belongs to B\n",
    "    \"\"\"\n",
    "    cart_prod = []\n",
    "    for a in A:\n",
    "        for b in B:\n",
    "            cart_prod.append((a, b))\n",
    "    return cart_prod"
   ]
  },
  {
   "cell_type": "code",
   "execution_count": 2,
   "id": "a0c6faab",
   "metadata": {},
   "outputs": [],
   "source": [
    "pairs = cart_product([1, 2, 3], ['A', 'B'])"
   ]
  },
  {
   "cell_type": "code",
   "execution_count": 3,
   "id": "254fc10b",
   "metadata": {},
   "outputs": [
    {
     "name": "stdout",
     "output_type": "stream",
     "text": [
      "[(1, 'A'), (1, 'B'), (2, 'A'), (2, 'B'), (3, 'A'), (3, 'B')]\n"
     ]
    }
   ],
   "source": [
    "print(pairs)"
   ]
  },
  {
   "cell_type": "markdown",
   "id": "e0557f68",
   "metadata": {},
   "source": [
    "## Exercise 2\n",
    "\n",
    "### Assumptions :\n",
    "- we have n students \n",
    "- each student has m grades\n",
    "- round() function works in O(1) time\n",
    "\n",
    "### Question 1 : how many operations do we do for each student?\n",
    "We do O(L) + O(1) = O(L) operations for each student. \n",
    "\n",
    "### Question 2 : what is the time complexity of function get_avg_grades?\n",
    "n\\*O(L) = O(n\\*L)"
   ]
  },
  {
   "cell_type": "code",
   "execution_count": 4,
   "id": "b4e2b52f",
   "metadata": {},
   "outputs": [],
   "source": [
    "def get_avg_grades(student_grades):\n",
    "    \"\"\"\n",
    "        returns average grade for each student in dictionary of student_grades\n",
    "        \n",
    "        args:\n",
    "        -----\n",
    "            student_grades : dict with keys as names of students and \n",
    "                    values as the list of their grades\n",
    "        \n",
    "        returns:\n",
    "        --------\n",
    "            avg_grade : dict with keys as names of students \n",
    "            (same as input dict grades) and \n",
    "            values as the average grade of the student\n",
    "    \"\"\"\n",
    "    avg_grades = {}\n",
    "    for name, grades in student_grades.items():\n",
    "        avg_grade = sum(grades) / len(grades) # O(L)\n",
    "        avg_grades[name] = round(avg_grade, 2) # O(1) -> O(L + 1) = O(L)\n",
    "    return avg_grades"
   ]
  },
  {
   "cell_type": "code",
   "execution_count": 5,
   "id": "88eb4dab",
   "metadata": {},
   "outputs": [],
   "source": [
    "student_grades = {'A' : [10, 8, 7], 'B' : [9, 9, 9], 'C' : [7, 6, 8]}"
   ]
  },
  {
   "cell_type": "code",
   "execution_count": 6,
   "id": "26cc120d",
   "metadata": {},
   "outputs": [
    {
     "data": {
      "text/plain": [
       "{'A': 8.33, 'B': 9.0, 'C': 7.0}"
      ]
     },
     "execution_count": 6,
     "metadata": {},
     "output_type": "execute_result"
    }
   ],
   "source": [
    "get_avg_grades(student_grades)"
   ]
  }
 ],
 "metadata": {
  "kernelspec": {
   "display_name": "Python 3",
   "language": "python",
   "name": "python3"
  },
  "language_info": {
   "codemirror_mode": {
    "name": "ipython",
    "version": 3
   },
   "file_extension": ".py",
   "mimetype": "text/x-python",
   "name": "python",
   "nbconvert_exporter": "python",
   "pygments_lexer": "ipython3",
   "version": "3.8.8"
  }
 },
 "nbformat": 4,
 "nbformat_minor": 5
}
