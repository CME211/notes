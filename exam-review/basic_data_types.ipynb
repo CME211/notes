{
 "cells": [
  {
   "cell_type": "markdown",
   "id": "baecb78b",
   "metadata": {},
   "source": [
    "# Basic data types"
   ]
  },
  {
   "cell_type": "code",
   "execution_count": 1,
   "id": "cb4a785b",
   "metadata": {},
   "outputs": [
    {
     "name": "stdout",
     "output_type": "stream",
     "text": [
      "<class 'int'>\n"
     ]
    }
   ],
   "source": [
    "print(type(1))"
   ]
  },
  {
   "cell_type": "code",
   "execution_count": 2,
   "id": "915c4941",
   "metadata": {},
   "outputs": [
    {
     "name": "stdout",
     "output_type": "stream",
     "text": [
      "<class 'float'>\n"
     ]
    }
   ],
   "source": [
    "print(type(1.3))"
   ]
  },
  {
   "cell_type": "code",
   "execution_count": 3,
   "id": "225482b9",
   "metadata": {},
   "outputs": [
    {
     "name": "stdout",
     "output_type": "stream",
     "text": [
      "<class 'str'>\n"
     ]
    }
   ],
   "source": [
    "print(type('stanford'))"
   ]
  },
  {
   "cell_type": "markdown",
   "id": "642b6ffb",
   "metadata": {},
   "source": [
    "## Basic data type : int"
   ]
  },
  {
   "cell_type": "code",
   "execution_count": 4,
   "id": "1188c0c1",
   "metadata": {},
   "outputs": [],
   "source": [
    "x = 20"
   ]
  },
  {
   "cell_type": "code",
   "execution_count": 5,
   "id": "59a6689c",
   "metadata": {},
   "outputs": [
    {
     "name": "stdout",
     "output_type": "stream",
     "text": [
      "22\n"
     ]
    }
   ],
   "source": [
    "x += 2 # x = x + 2\n",
    "print(x)"
   ]
  },
  {
   "cell_type": "code",
   "execution_count": 6,
   "id": "6bb99c73",
   "metadata": {},
   "outputs": [
    {
     "name": "stdout",
     "output_type": "stream",
     "text": [
      "20\n"
     ]
    }
   ],
   "source": [
    "x -= 2 # x = x - 2\n",
    "print(x)"
   ]
  },
  {
   "cell_type": "code",
   "execution_count": 7,
   "id": "560d2bf3",
   "metadata": {},
   "outputs": [
    {
     "name": "stdout",
     "output_type": "stream",
     "text": [
      "10.0\n",
      "<class 'float'>\n"
     ]
    }
   ],
   "source": [
    "x /= 2 # x = x / 2, returns a float, x /y -> float \n",
    "print(x)\n",
    "print(type(x))"
   ]
  },
  {
   "cell_type": "code",
   "execution_count": 8,
   "id": "3d6a1c95",
   "metadata": {},
   "outputs": [
    {
     "name": "stdout",
     "output_type": "stream",
     "text": [
      "5.0\n"
     ]
    }
   ],
   "source": [
    "x //= 2 # x = x // 2, integer division \n",
    "print(x)"
   ]
  },
  {
   "cell_type": "code",
   "execution_count": 9,
   "id": "3a596e48",
   "metadata": {},
   "outputs": [
    {
     "name": "stdout",
     "output_type": "stream",
     "text": [
      "10\n"
     ]
    }
   ],
   "source": [
    "x = int(x)\n",
    "x *= 2\n",
    "print(x)"
   ]
  },
  {
   "cell_type": "code",
   "execution_count": 10,
   "id": "eeca8149",
   "metadata": {},
   "outputs": [
    {
     "name": "stdout",
     "output_type": "stream",
     "text": [
      "100\n"
     ]
    }
   ],
   "source": [
    "y = x**2\n",
    "print(y)"
   ]
  },
  {
   "cell_type": "markdown",
   "id": "f3f239c1",
   "metadata": {},
   "source": [
    "## Basic data type : boolean"
   ]
  },
  {
   "cell_type": "code",
   "execution_count": 11,
   "id": "5f60ba25",
   "metadata": {},
   "outputs": [
    {
     "name": "stdout",
     "output_type": "stream",
     "text": [
      "True\n"
     ]
    }
   ],
   "source": [
    "b = 9 ** 2 == 3 ** 4 # True or False\n",
    "print(b)"
   ]
  },
  {
   "cell_type": "markdown",
   "id": "4c7afe25",
   "metadata": {},
   "source": [
    "## Basic data type : float"
   ]
  },
  {
   "cell_type": "code",
   "execution_count": 12,
   "id": "23e08e07",
   "metadata": {},
   "outputs": [],
   "source": [
    "y = 9.926"
   ]
  },
  {
   "cell_type": "code",
   "execution_count": 13,
   "id": "16cf880d",
   "metadata": {},
   "outputs": [
    {
     "name": "stdout",
     "output_type": "stream",
     "text": [
      "Typesetting y into integer using int 9\n"
     ]
    }
   ],
   "source": [
    "int_y = int(y)\n",
    "print(\"Typesetting y into integer using int {}\".format(int_y))"
   ]
  },
  {
   "cell_type": "code",
   "execution_count": 14,
   "id": "76400d9f",
   "metadata": {},
   "outputs": [
    {
     "name": "stdout",
     "output_type": "stream",
     "text": [
      "Typesetting y into integer using round 10\n"
     ]
    }
   ],
   "source": [
    "round_y = round(y)\n",
    "print(\"Typesetting y into integer using round {}\".format(round_y))"
   ]
  },
  {
   "cell_type": "code",
   "execution_count": 15,
   "id": "3646cc06",
   "metadata": {},
   "outputs": [
    {
     "name": "stdout",
     "output_type": "stream",
     "text": [
      "Rounding off y to 2 decimal places using round 9.93\n"
     ]
    }
   ],
   "source": [
    "round_y_with_decimal = round(y, 2)\n",
    "print(\"Rounding off y to 2 decimal places using round {}\".format(round_y_with_decimal))"
   ]
  },
  {
   "cell_type": "code",
   "execution_count": 16,
   "id": "197664a7",
   "metadata": {},
   "outputs": [
    {
     "name": "stdout",
     "output_type": "stream",
     "text": [
      "0 1 2 3 4 5 6 7 8 9 "
     ]
    }
   ],
   "source": [
    "for i in range(10):\n",
    "    print(i, end=' ')"
   ]
  },
  {
   "cell_type": "markdown",
   "id": "fe7f98e4",
   "metadata": {},
   "source": [
    "## Basic data type : str"
   ]
  },
  {
   "cell_type": "code",
   "execution_count": 17,
   "id": "6933388e",
   "metadata": {},
   "outputs": [
    {
     "name": "stdout",
     "output_type": "stream",
     "text": [
      "We're going to movies after exam!\n"
     ]
    }
   ],
   "source": [
    "sentence1 = 'We\\'re going to movies after exam!'\n",
    "print(sentence1)"
   ]
  },
  {
   "cell_type": "code",
   "execution_count": 18,
   "id": "69e2dff4",
   "metadata": {},
   "outputs": [
    {
     "name": "stdout",
     "output_type": "stream",
     "text": [
      "We're going to movies after exam!\n"
     ]
    }
   ],
   "source": [
    "sentence2 = \"We're going to movies after exam!\"\n",
    "print(sentence2)"
   ]
  },
  {
   "cell_type": "code",
   "execution_count": 19,
   "id": "bab010ad",
   "metadata": {},
   "outputs": [
    {
     "name": "stdout",
     "output_type": "stream",
     "text": [
      "\n",
      "    Welcome to CME 211!\n",
      "    We will learn to create readable and reusable software in this class. \n",
      "    \n"
     ]
    }
   ],
   "source": [
    "multi_line_string = \"\"\"\n",
    "    Welcome to CME 211!\n",
    "    We will learn to create readable and reusable software in this class. \n",
    "    \"\"\"\n",
    "print(multi_line_string)"
   ]
  },
  {
   "cell_type": "code",
   "execution_count": 20,
   "id": "33f3166e",
   "metadata": {},
   "outputs": [
    {
     "ename": "TypeError",
     "evalue": "'str' object does not support item assignment",
     "output_type": "error",
     "traceback": [
      "\u001b[0;31m---------------------------------------------------------------------------\u001b[0m",
      "\u001b[0;31mTypeError\u001b[0m                                 Traceback (most recent call last)",
      "\u001b[0;32m<ipython-input-20-676ed2043296>\u001b[0m in \u001b[0;36m<module>\u001b[0;34m\u001b[0m\n\u001b[1;32m      1\u001b[0m \u001b[0;31m# individual item assignment is not allowed in strings\u001b[0m\u001b[0;34m\u001b[0m\u001b[0;34m\u001b[0m\u001b[0;34m\u001b[0m\u001b[0m\n\u001b[1;32m      2\u001b[0m \u001b[0mmovie\u001b[0m \u001b[0;34m=\u001b[0m \u001b[0;34m'Thor'\u001b[0m\u001b[0;34m\u001b[0m\u001b[0;34m\u001b[0m\u001b[0m\n\u001b[0;32m----> 3\u001b[0;31m \u001b[0mmovie\u001b[0m\u001b[0;34m[\u001b[0m\u001b[0;36m0\u001b[0m\u001b[0;34m]\u001b[0m \u001b[0;34m=\u001b[0m \u001b[0;34m'D'\u001b[0m \u001b[0;31m# we expect an error in this statement!\u001b[0m\u001b[0;34m\u001b[0m\u001b[0;34m\u001b[0m\u001b[0m\n\u001b[0m",
      "\u001b[0;31mTypeError\u001b[0m: 'str' object does not support item assignment"
     ]
    }
   ],
   "source": [
    "# individual item assignment is not allowed in strings\n",
    "movie = 'Thor'\n",
    "movie[0] = 'D' # we expect an error in this statement!"
   ]
  },
  {
   "cell_type": "code",
   "execution_count": 21,
   "id": "1a8ec4f6",
   "metadata": {},
   "outputs": [
    {
     "data": {
      "text/plain": [
       "'Dhor'"
      ]
     },
     "execution_count": 21,
     "metadata": {},
     "output_type": "execute_result"
    }
   ],
   "source": [
    "'D' + movie[1:] # create a new string with desired characters"
   ]
  },
  {
   "cell_type": "code",
   "execution_count": 22,
   "id": "4801a9b1",
   "metadata": {},
   "outputs": [
    {
     "name": "stdout",
     "output_type": "stream",
     "text": [
      "ThorThor\n"
     ]
    }
   ],
   "source": [
    "print(movie * 2)"
   ]
  },
  {
   "cell_type": "code",
   "execution_count": 23,
   "id": "df424143",
   "metadata": {},
   "outputs": [
    {
     "name": "stdout",
     "output_type": "stream",
     "text": [
      "Thor Ragnarok\n"
     ]
    }
   ],
   "source": [
    "movie += ' Ragnarok' # movie = movie + ' Ragnarok'\n",
    "print(movie)"
   ]
  },
  {
   "cell_type": "code",
   "execution_count": 24,
   "id": "6e2a974f",
   "metadata": {},
   "outputs": [
    {
     "data": {
      "text/plain": [
       "3"
      ]
     },
     "execution_count": 24,
     "metadata": {},
     "output_type": "execute_result"
    }
   ],
   "source": [
    "movie.find('r') # string.find(substring)  "
   ]
  },
  {
   "cell_type": "code",
   "execution_count": 25,
   "id": "7409d7a9",
   "metadata": {},
   "outputs": [
    {
     "data": {
      "text/plain": [
       "5"
      ]
     },
     "execution_count": 25,
     "metadata": {},
     "output_type": "execute_result"
    }
   ],
   "source": [
    "movie.find('R')"
   ]
  },
  {
   "cell_type": "code",
   "execution_count": 26,
   "id": "91455961",
   "metadata": {},
   "outputs": [
    {
     "name": "stdout",
     "output_type": "stream",
     "text": [
      "movie in lowercase is thor ragnarok\n",
      "movie in uppercase is THOR RAGNAROK\n"
     ]
    }
   ],
   "source": [
    "print(\"movie in lowercase is {}\".format(movie.lower()))\n",
    "print(\"movie in uppercase is {}\".format(movie.upper()))"
   ]
  },
  {
   "cell_type": "markdown",
   "id": "2fc64f8d",
   "metadata": {},
   "source": [
    "### Slicing : used in list and str\n",
    "syntax = string[start : end : jump] where default values are start = 0, end = len(string), jump = 1\n",
    "\n",
    "### Note : start is always included and end is never included"
   ]
  },
  {
   "cell_type": "code",
   "execution_count": 27,
   "id": "44326a2b",
   "metadata": {},
   "outputs": [
    {
     "data": {
      "text/plain": [
       "'Thor'"
      ]
     },
     "execution_count": 27,
     "metadata": {},
     "output_type": "execute_result"
    }
   ],
   "source": [
    "movie[:4] "
   ]
  },
  {
   "cell_type": "code",
   "execution_count": 28,
   "id": "941fc01f",
   "metadata": {},
   "outputs": [
    {
     "data": {
      "text/plain": [
       "'Ragnarok'"
      ]
     },
     "execution_count": 28,
     "metadata": {},
     "output_type": "execute_result"
    }
   ],
   "source": [
    "movie[5:]"
   ]
  },
  {
   "cell_type": "code",
   "execution_count": 29,
   "id": "77e5d27f",
   "metadata": {},
   "outputs": [
    {
     "data": {
      "text/plain": [
       "'To anr'"
      ]
     },
     "execution_count": 29,
     "metadata": {},
     "output_type": "execute_result"
    }
   ],
   "source": [
    "movie[0:12:2]"
   ]
  }
 ],
 "metadata": {
  "kernelspec": {
   "display_name": "Python 3",
   "language": "python",
   "name": "python3"
  },
  "language_info": {
   "codemirror_mode": {
    "name": "ipython",
    "version": 3
   },
   "file_extension": ".py",
   "mimetype": "text/x-python",
   "name": "python",
   "nbconvert_exporter": "python",
   "pygments_lexer": "ipython3",
   "version": "3.8.8"
  }
 },
 "nbformat": 4,
 "nbformat_minor": 5
}
