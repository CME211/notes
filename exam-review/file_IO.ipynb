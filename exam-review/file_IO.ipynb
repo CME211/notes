{
 "cells": [
  {
   "cell_type": "markdown",
   "id": "3df1e6ce",
   "metadata": {},
   "source": [
    "## Reading input from a file"
   ]
  },
  {
   "cell_type": "code",
   "execution_count": 1,
   "id": "11749dbb",
   "metadata": {},
   "outputs": [],
   "source": [
    "root_dir = '/Users/aasavarikakne/Desktop/review_session'"
   ]
  },
  {
   "cell_type": "code",
   "execution_count": 2,
   "id": "45edb927",
   "metadata": {},
   "outputs": [
    {
     "ename": "FileNotFoundError",
     "evalue": "[Errno 2] No such file or directory: '/Users/aasavarikakne/Desktop/review_sessiongrades.txt'",
     "output_type": "error",
     "traceback": [
      "\u001b[0;31m---------------------------------------------------------------------------\u001b[0m",
      "\u001b[0;31mFileNotFoundError\u001b[0m                         Traceback (most recent call last)",
      "\u001b[0;32m<ipython-input-2-8c4f0edfde84>\u001b[0m in \u001b[0;36m<module>\u001b[0;34m\u001b[0m\n\u001b[0;32m----> 1\u001b[0;31m \u001b[0mf\u001b[0m \u001b[0;34m=\u001b[0m \u001b[0mopen\u001b[0m\u001b[0;34m(\u001b[0m\u001b[0mroot_dir\u001b[0m \u001b[0;34m+\u001b[0m \u001b[0;34m'grades.txt'\u001b[0m\u001b[0;34m)\u001b[0m \u001b[0;31m# we expect an error here!\u001b[0m\u001b[0;34m\u001b[0m\u001b[0;34m\u001b[0m\u001b[0m\n\u001b[0m",
      "\u001b[0;31mFileNotFoundError\u001b[0m: [Errno 2] No such file or directory: '/Users/aasavarikakne/Desktop/review_sessiongrades.txt'"
     ]
    }
   ],
   "source": [
    "# we expect an error here!\n",
    "f = open(root_dir + 'grades.txt') "
   ]
  },
  {
   "cell_type": "markdown",
   "id": "7cd45f01",
   "metadata": {},
   "source": [
    "## That's why, we always take care of delimiters in paths!"
   ]
  },
  {
   "cell_type": "code",
   "execution_count": 3,
   "id": "d3d55c3a",
   "metadata": {},
   "outputs": [],
   "source": [
    "import os"
   ]
  },
  {
   "cell_type": "code",
   "execution_count": 4,
   "id": "8278fe07",
   "metadata": {},
   "outputs": [],
   "source": [
    "infile_path = os.path.join(root_dir, 'grades.txt')"
   ]
  },
  {
   "cell_type": "code",
   "execution_count": 5,
   "id": "b0b032a6",
   "metadata": {},
   "outputs": [
    {
     "name": "stdout",
     "output_type": "stream",
     "text": [
      "/Users/aasavarikakne/Desktop/review_session/grades.txt\n"
     ]
    }
   ],
   "source": [
    "print(infile_path)"
   ]
  },
  {
   "cell_type": "code",
   "execution_count": 6,
   "id": "036fd7f4",
   "metadata": {},
   "outputs": [
    {
     "name": "stdout",
     "output_type": "stream",
     "text": [
      "All set for next step\n"
     ]
    }
   ],
   "source": [
    "if os.path.exists(infile_path) == False:\n",
    "    print(\"No such file detected\")\n",
    "else:\n",
    "    print(\"All set for next step\")"
   ]
  },
  {
   "cell_type": "code",
   "execution_count": 7,
   "id": "0897ee4b",
   "metadata": {},
   "outputs": [],
   "source": [
    "infile = open(infile_path, 'r')"
   ]
  },
  {
   "cell_type": "code",
   "execution_count": 8,
   "id": "71eb6148",
   "metadata": {},
   "outputs": [
    {
     "name": "stdout",
     "output_type": "stream",
     "text": [
      "[8.6, 8.0, 7.6]\n"
     ]
    }
   ],
   "source": [
    "avg_grades = []\n",
    "\n",
    "for line in infile.readlines():\n",
    "    grades = line.split()\n",
    "    grades = [int(grade) for grade in grades]\n",
    "    avg_grade = sum(grades) / len(grades) \n",
    "    avg_grades.append(avg_grade)\n",
    "\n",
    "print(avg_grades)    "
   ]
  },
  {
   "cell_type": "code",
   "execution_count": 9,
   "id": "51493f88",
   "metadata": {},
   "outputs": [],
   "source": [
    "infile.close()"
   ]
  },
  {
   "cell_type": "markdown",
   "id": "6808be2d",
   "metadata": {},
   "source": [
    "## Question : what is the time complexity of sum and len?\n",
    "In order to get sum of all items, we have to visit each item exactly once. \n",
    "So, time complexity of sum is O(n) where n = length of the list. \n",
    "\n",
    "Finding length of a list is O(1). To get a better understanding, \n",
    "think of storing an attribute 'length' which store number of \n",
    "items in the list. We initialize 'length' to 0 and add 1 to 'length'\n",
    "every time we add a new item to the list. "
   ]
  },
  {
   "cell_type": "markdown",
   "id": "82ee1d96",
   "metadata": {},
   "source": [
    "## Let us write the average grades to an output file"
   ]
  },
  {
   "cell_type": "code",
   "execution_count": 10,
   "id": "83bd2fc1",
   "metadata": {},
   "outputs": [
    {
     "name": "stdout",
     "output_type": "stream",
     "text": [
      "<class 'float'>\n"
     ]
    }
   ],
   "source": [
    "print(type(avg_grades[0]))"
   ]
  },
  {
   "cell_type": "code",
   "execution_count": 11,
   "id": "ee0037de",
   "metadata": {},
   "outputs": [],
   "source": [
    "# we need to typecast to str\n",
    "avg_grades = [str(avg_grade) for avg_grade in avg_grades]"
   ]
  },
  {
   "cell_type": "code",
   "execution_count": 12,
   "id": "65b6209f",
   "metadata": {},
   "outputs": [
    {
     "name": "stdout",
     "output_type": "stream",
     "text": [
      "8.6\n",
      "8.0\n",
      "7.6\n"
     ]
    }
   ],
   "source": [
    "output = '\\n'.join(avg_grades)\n",
    "print(output)"
   ]
  },
  {
   "cell_type": "code",
   "execution_count": 13,
   "id": "c48e0fdc",
   "metadata": {},
   "outputs": [],
   "source": [
    "outfile_path = os.path.join(root_dir, 'average_grades.txt')"
   ]
  },
  {
   "cell_type": "code",
   "execution_count": 14,
   "id": "beb19114",
   "metadata": {},
   "outputs": [],
   "source": [
    "outfile = open(outfile_path, 'w')\n",
    "\n",
    "outfile.write(output)\n",
    "\n",
    "outfile.close()"
   ]
  }
 ],
 "metadata": {
  "kernelspec": {
   "display_name": "Python 3",
   "language": "python",
   "name": "python3"
  },
  "language_info": {
   "codemirror_mode": {
    "name": "ipython",
    "version": 3
   },
   "file_extension": ".py",
   "mimetype": "text/x-python",
   "name": "python",
   "nbconvert_exporter": "python",
   "pygments_lexer": "ipython3",
   "version": "3.8.8"
  }
 },
 "nbformat": 4,
 "nbformat_minor": 5
}
