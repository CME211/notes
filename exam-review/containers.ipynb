{
 "cells": [
  {
   "cell_type": "markdown",
   "id": "0663744b",
   "metadata": {},
   "source": [
    "## Lists\n",
    "- ordered and mutable\n",
    "- we already covered slicing!"
   ]
  },
  {
   "cell_type": "code",
   "execution_count": 1,
   "id": "e348e30c",
   "metadata": {},
   "outputs": [],
   "source": [
    "companies = ['Google', 'Facebook', 'Netflix', 'Amazon', 'Intel']"
   ]
  },
  {
   "cell_type": "code",
   "execution_count": 2,
   "id": "dfb460bc",
   "metadata": {},
   "outputs": [
    {
     "name": "stdout",
     "output_type": "stream",
     "text": [
      "['Google', 'Facebook', 'Netflix', 'Amazon', 'Tesla']\n"
     ]
    }
   ],
   "source": [
    "companies[-1] = 'Tesla'\n",
    "print(companies)"
   ]
  },
  {
   "cell_type": "code",
   "execution_count": 3,
   "id": "ba26a98e",
   "metadata": {},
   "outputs": [
    {
     "name": "stdout",
     "output_type": "stream",
     "text": [
      "['Google', 'Facebook', 'Netflix', 'Amazon', 'Tesla', 'Apple']\n"
     ]
    }
   ],
   "source": [
    "if 'Apple' in companies: # item in list -> True or False\n",
    "    print(\"Yes!\")\n",
    "else:\n",
    "    companies += ['Apple']\n",
    "    print(companies)"
   ]
  },
  {
   "cell_type": "markdown",
   "id": "a07dbacb",
   "metadata": {},
   "source": [
    "### Question : what is the time complexity of 'item in list' operation?\n",
    "It is O(n) where n = length of list"
   ]
  },
  {
   "cell_type": "code",
   "execution_count": 4,
   "id": "e5adbdc9",
   "metadata": {},
   "outputs": [
    {
     "data": {
      "text/plain": [
       "'Amazon'"
      ]
     },
     "execution_count": 4,
     "metadata": {},
     "output_type": "execute_result"
    }
   ],
   "source": [
    "min(companies) "
   ]
  },
  {
   "cell_type": "code",
   "execution_count": 5,
   "id": "bd9be2c8",
   "metadata": {},
   "outputs": [
    {
     "data": {
      "text/plain": [
       "'Tesla'"
      ]
     },
     "execution_count": 5,
     "metadata": {},
     "output_type": "execute_result"
    }
   ],
   "source": [
    "max(companies)"
   ]
  },
  {
   "cell_type": "markdown",
   "id": "f81cb219",
   "metadata": {},
   "source": [
    "## Question : what is time complexity for sorting a list?\n",
    "O(nlog(n)) for a list of size n. "
   ]
  },
  {
   "cell_type": "code",
   "execution_count": 6,
   "id": "fe61d8b8",
   "metadata": {},
   "outputs": [],
   "source": [
    "# returns a new list containing sorted values\n",
    "sorted_companies = sorted(companies) "
   ]
  },
  {
   "cell_type": "code",
   "execution_count": 7,
   "id": "06a73a60",
   "metadata": {},
   "outputs": [
    {
     "name": "stdout",
     "output_type": "stream",
     "text": [
      "['Google', 'Facebook', 'Netflix', 'Amazon', 'Tesla', 'Apple']\n"
     ]
    }
   ],
   "source": [
    "print(companies)"
   ]
  },
  {
   "cell_type": "code",
   "execution_count": 8,
   "id": "6bd99804",
   "metadata": {},
   "outputs": [
    {
     "name": "stdout",
     "output_type": "stream",
     "text": [
      "['Amazon', 'Apple', 'Facebook', 'Google', 'Netflix', 'Tesla']\n"
     ]
    }
   ],
   "source": [
    "# sorts the list in place, does not return anything!\n",
    "companies.sort() \n",
    "print(companies)"
   ]
  },
  {
   "cell_type": "code",
   "execution_count": 9,
   "id": "70271bf8",
   "metadata": {},
   "outputs": [
    {
     "data": {
      "text/plain": [
       "2"
      ]
     },
     "execution_count": 9,
     "metadata": {},
     "output_type": "execute_result"
    }
   ],
   "source": [
    "# item exists in the list\n",
    "companies.index('Facebook') "
   ]
  },
  {
   "cell_type": "code",
   "execution_count": 10,
   "id": "48cfa761",
   "metadata": {},
   "outputs": [
    {
     "ename": "ValueError",
     "evalue": "'Salesforce' is not in list",
     "output_type": "error",
     "traceback": [
      "\u001b[0;31m---------------------------------------------------------------------------\u001b[0m",
      "\u001b[0;31mValueError\u001b[0m                                Traceback (most recent call last)",
      "\u001b[0;32m<ipython-input-10-db5709b32ef0>\u001b[0m in \u001b[0;36m<module>\u001b[0;34m\u001b[0m\n\u001b[1;32m      1\u001b[0m \u001b[0;31m# item does not exist in the list, we expect an error!\u001b[0m\u001b[0;34m\u001b[0m\u001b[0;34m\u001b[0m\u001b[0;34m\u001b[0m\u001b[0m\n\u001b[0;32m----> 2\u001b[0;31m \u001b[0mcompanies\u001b[0m\u001b[0;34m.\u001b[0m\u001b[0mindex\u001b[0m\u001b[0;34m(\u001b[0m\u001b[0;34m'Salesforce'\u001b[0m\u001b[0;34m)\u001b[0m\u001b[0;34m\u001b[0m\u001b[0;34m\u001b[0m\u001b[0m\n\u001b[0m",
      "\u001b[0;31mValueError\u001b[0m: 'Salesforce' is not in list"
     ]
    }
   ],
   "source": [
    "# item does not exist in the list, we expect an error!\n",
    "companies.index('Salesforce') "
   ]
  },
  {
   "cell_type": "markdown",
   "id": "fd4662fb",
   "metadata": {},
   "source": [
    "### Question : What is the time complexity of 'list.index(item)' method?\n",
    "O(n) "
   ]
  },
  {
   "cell_type": "markdown",
   "id": "f2c89d89",
   "metadata": {},
   "source": [
    "### List comprehensions\n",
    "We can use list comprehensions for \n",
    "- run an operation or function on each item of the list\n",
    "- filter items from the list"
   ]
  },
  {
   "cell_type": "code",
   "execution_count": 11,
   "id": "c822c844",
   "metadata": {},
   "outputs": [
    {
     "name": "stdout",
     "output_type": "stream",
     "text": [
      "['amazon', 'apple', 'facebook', 'google', 'netflix', 'tesla']\n"
     ]
    }
   ],
   "source": [
    "companies = [company.lower() for company in companies] \n",
    "print(companies)"
   ]
  },
  {
   "cell_type": "code",
   "execution_count": 12,
   "id": "3c40005e",
   "metadata": {},
   "outputs": [
    {
     "name": "stdout",
     "output_type": "stream",
     "text": [
      "['amazon', 'apple']\n"
     ]
    }
   ],
   "source": [
    "filtered_companies = [company for company in companies if company[0] == 'a']\n",
    "print(filtered_companies)"
   ]
  },
  {
   "cell_type": "code",
   "execution_count": 13,
   "id": "61030ced",
   "metadata": {},
   "outputs": [
    {
     "data": {
      "text/plain": [
       "['amazon', 'apple', '$', '$', '$', '$']"
      ]
     },
     "execution_count": 13,
     "metadata": {},
     "output_type": "execute_result"
    }
   ],
   "source": [
    "[company if company[0] == 'a' else '$' for company in companies]"
   ]
  },
  {
   "cell_type": "code",
   "execution_count": 14,
   "id": "0b485a81",
   "metadata": {},
   "outputs": [
    {
     "name": "stdout",
     "output_type": "stream",
     "text": [
      "amazon\n",
      "apple\n",
      "facebook\n",
      "google\n",
      "netflix\n",
      "tesla\n"
     ]
    }
   ],
   "source": [
    "output = '\\n'.join(companies) # delimiter.join(list)\n",
    "print(output)"
   ]
  },
  {
   "cell_type": "markdown",
   "id": "2ce8c79c",
   "metadata": {},
   "source": [
    "## Sets\n",
    "\n",
    "- unique, unordered, and mutable collections of immutable items\n",
    "- stores items such as int, float, bool, str, float, tuple\n",
    "- O(1) lookup, add and remove"
   ]
  },
  {
   "cell_type": "code",
   "execution_count": 15,
   "id": "f1e5c950",
   "metadata": {},
   "outputs": [],
   "source": [
    "courses = {'CME 211', 'CME 305', 'CME 307'}"
   ]
  },
  {
   "cell_type": "code",
   "execution_count": 16,
   "id": "31b0b54b",
   "metadata": {},
   "outputs": [
    {
     "name": "stdout",
     "output_type": "stream",
     "text": [
      "{'CME 211', 'CME 307', 'CME 212', 'CME 305'}\n"
     ]
    }
   ],
   "source": [
    "courses.add('CME 212')\n",
    "print(courses)"
   ]
  },
  {
   "cell_type": "code",
   "execution_count": 17,
   "id": "1f81a31a",
   "metadata": {},
   "outputs": [
    {
     "ename": "KeyError",
     "evalue": "'CS 229'",
     "output_type": "error",
     "traceback": [
      "\u001b[0;31m---------------------------------------------------------------------------\u001b[0m",
      "\u001b[0;31mKeyError\u001b[0m                                  Traceback (most recent call last)",
      "\u001b[0;32m<ipython-input-17-9e9e715c8093>\u001b[0m in \u001b[0;36m<module>\u001b[0;34m\u001b[0m\n\u001b[1;32m      1\u001b[0m \u001b[0;31m# we can not remove items that do not exist in the set\u001b[0m\u001b[0;34m\u001b[0m\u001b[0;34m\u001b[0m\u001b[0;34m\u001b[0m\u001b[0m\n\u001b[0;32m----> 2\u001b[0;31m \u001b[0mcourses\u001b[0m\u001b[0;34m.\u001b[0m\u001b[0mremove\u001b[0m\u001b[0;34m(\u001b[0m\u001b[0;34m'CS 229'\u001b[0m\u001b[0;34m)\u001b[0m \u001b[0;31m# we expect error here!\u001b[0m\u001b[0;34m\u001b[0m\u001b[0;34m\u001b[0m\u001b[0m\n\u001b[0m",
      "\u001b[0;31mKeyError\u001b[0m: 'CS 229'"
     ]
    }
   ],
   "source": [
    "# we can not remove items that do not exist in the set\n",
    "courses.remove('CS 229') # we expect error here!"
   ]
  },
  {
   "cell_type": "code",
   "execution_count": 18,
   "id": "ae6fe331",
   "metadata": {},
   "outputs": [
    {
     "name": "stdout",
     "output_type": "stream",
     "text": [
      "{'CME 211', 'CME 212', 'CME 305'}\n"
     ]
    }
   ],
   "source": [
    "courses.remove('CME 307')\n",
    "print(courses)"
   ]
  },
  {
   "cell_type": "code",
   "execution_count": 19,
   "id": "c3dd3dbe",
   "metadata": {},
   "outputs": [],
   "source": [
    "setA = {1, 2, 3}\n",
    "setB = {3, 4, 5}"
   ]
  },
  {
   "cell_type": "code",
   "execution_count": 20,
   "id": "4f20cc4a",
   "metadata": {},
   "outputs": [
    {
     "name": "stdout",
     "output_type": "stream",
     "text": [
      "Intersection of set A and B is {3}\n"
     ]
    }
   ],
   "source": [
    "print(\"Intersection of set A and B is {}\".format(setA & setB))"
   ]
  },
  {
   "cell_type": "code",
   "execution_count": 21,
   "id": "f281b8a1",
   "metadata": {},
   "outputs": [
    {
     "name": "stdout",
     "output_type": "stream",
     "text": [
      "Union of set A and B is {1, 2, 3, 4, 5}\n"
     ]
    }
   ],
   "source": [
    "print(\"Union of set A and B is {}\".format(setA | setB))"
   ]
  },
  {
   "cell_type": "markdown",
   "id": "bcca3e90",
   "metadata": {},
   "source": [
    "## Tuples\n",
    "- ordered, fixed length and immutable\n",
    "- but tuples can store mutable items"
   ]
  },
  {
   "cell_type": "code",
   "execution_count": 22,
   "id": "bcf801f8",
   "metadata": {},
   "outputs": [],
   "source": [
    "daily_meal = ('pancakes', 'burger', 'salad')"
   ]
  },
  {
   "cell_type": "code",
   "execution_count": 23,
   "id": "a2e2cef1",
   "metadata": {},
   "outputs": [
    {
     "ename": "TypeError",
     "evalue": "'tuple' object does not support item assignment",
     "output_type": "error",
     "traceback": [
      "\u001b[0;31m---------------------------------------------------------------------------\u001b[0m",
      "\u001b[0;31mTypeError\u001b[0m                                 Traceback (most recent call last)",
      "\u001b[0;32m<ipython-input-23-1045103dceba>\u001b[0m in \u001b[0;36m<module>\u001b[0;34m\u001b[0m\n\u001b[0;32m----> 1\u001b[0;31m \u001b[0mdaily_meal\u001b[0m\u001b[0;34m[\u001b[0m\u001b[0;36m1\u001b[0m\u001b[0;34m]\u001b[0m \u001b[0;34m=\u001b[0m \u001b[0;34m'Coffee'\u001b[0m \u001b[0;31m# we expect error here!\u001b[0m\u001b[0;34m\u001b[0m\u001b[0;34m\u001b[0m\u001b[0m\n\u001b[0m",
      "\u001b[0;31mTypeError\u001b[0m: 'tuple' object does not support item assignment"
     ]
    }
   ],
   "source": [
    "daily_meal[1] = 'Coffee' # we expect error here!"
   ]
  },
  {
   "cell_type": "code",
   "execution_count": 24,
   "id": "73061943",
   "metadata": {},
   "outputs": [],
   "source": [
    "breakfast, lunch, dinner = daily_meal # unpacking "
   ]
  },
  {
   "cell_type": "code",
   "execution_count": 25,
   "id": "83161d3f",
   "metadata": {},
   "outputs": [
    {
     "name": "stdout",
     "output_type": "stream",
     "text": [
      "breakfast is pancakes.\n"
     ]
    }
   ],
   "source": [
    "print(\"breakfast is {}.\".format(breakfast))"
   ]
  },
  {
   "cell_type": "code",
   "execution_count": 26,
   "id": "24df3b5e",
   "metadata": {},
   "outputs": [
    {
     "name": "stdout",
     "output_type": "stream",
     "text": [
      "lunch is burger.\n"
     ]
    }
   ],
   "source": [
    "print(\"lunch is {}.\".format(lunch))"
   ]
  },
  {
   "cell_type": "code",
   "execution_count": 27,
   "id": "1e06cce5",
   "metadata": {},
   "outputs": [
    {
     "name": "stdout",
     "output_type": "stream",
     "text": [
      "dinner is salad.\n"
     ]
    }
   ],
   "source": [
    "print(\"dinner is {}.\".format(dinner))"
   ]
  },
  {
   "cell_type": "code",
   "execution_count": 28,
   "id": "8c76f774",
   "metadata": {},
   "outputs": [
    {
     "data": {
      "text/plain": [
       "('pancakes', 'burger', 'salad', 'chocolate')"
      ]
     },
     "execution_count": 28,
     "metadata": {},
     "output_type": "execute_result"
    }
   ],
   "source": [
    "# just like str, this creates a new tuple and returns it\n",
    "daily_meal + ('chocolate',) "
   ]
  },
  {
   "cell_type": "markdown",
   "id": "4d120edb",
   "metadata": {},
   "source": [
    "## Dict\n",
    "- unordered, mutable\n",
    "- keys must be of immutable type\n",
    "- keys are unique\n",
    "- O(1) lookup for keys, O(1) addition and removal for key, value pairs"
   ]
  },
  {
   "cell_type": "code",
   "execution_count": 29,
   "id": "1440d9df",
   "metadata": {},
   "outputs": [],
   "source": [
    "import random\n",
    "\n",
    "hiring_teams = {company : random.randint(1, 4) for company in companies}"
   ]
  },
  {
   "cell_type": "code",
   "execution_count": 30,
   "id": "ab4f0f80",
   "metadata": {},
   "outputs": [
    {
     "name": "stdout",
     "output_type": "stream",
     "text": [
      "{'amazon': 4, 'apple': 4, 'facebook': 1, 'google': 4, 'netflix': 1, 'tesla': 3}\n"
     ]
    }
   ],
   "source": [
    "print(hiring_teams)"
   ]
  },
  {
   "cell_type": "code",
   "execution_count": 31,
   "id": "1a135bd1",
   "metadata": {},
   "outputs": [
    {
     "name": "stdout",
     "output_type": "stream",
     "text": [
      "{'amazon': 4, 'apple': 4, 'facebook': 1, 'google': 5, 'netflix': 1, 'tesla': 3}\n"
     ]
    }
   ],
   "source": [
    "hiring_teams['google'] = 5\n",
    "print(hiring_teams)"
   ]
  },
  {
   "cell_type": "code",
   "execution_count": 32,
   "id": "88437666",
   "metadata": {},
   "outputs": [
    {
     "ename": "KeyError",
     "evalue": "'salesforce'",
     "output_type": "error",
     "traceback": [
      "\u001b[0;31m---------------------------------------------------------------------------\u001b[0m",
      "\u001b[0;31mKeyError\u001b[0m                                  Traceback (most recent call last)",
      "\u001b[0;32m<ipython-input-32-4300d6724ce6>\u001b[0m in \u001b[0;36m<module>\u001b[0;34m\u001b[0m\n\u001b[0;32m----> 1\u001b[0;31m \u001b[0mhiring_teams\u001b[0m\u001b[0;34m[\u001b[0m\u001b[0;34m'salesforce'\u001b[0m\u001b[0;34m]\u001b[0m \u001b[0;31m# we expect a KeyError here!\u001b[0m\u001b[0;34m\u001b[0m\u001b[0;34m\u001b[0m\u001b[0m\n\u001b[0m",
      "\u001b[0;31mKeyError\u001b[0m: 'salesforce'"
     ]
    }
   ],
   "source": [
    "hiring_teams['salesforce'] # we expect a KeyError here!"
   ]
  },
  {
   "cell_type": "code",
   "execution_count": 33,
   "id": "9a82dd9c",
   "metadata": {},
   "outputs": [
    {
     "name": "stdout",
     "output_type": "stream",
     "text": [
      "No information on intel\n"
     ]
    }
   ],
   "source": [
    "# handle key errors gracefully\n",
    "# note that : lookup for a key in dict is O(1)\n",
    "if 'intel' in hiring_teams: \n",
    "    print(hiring_teams['intel'])\n",
    "else:\n",
    "    print(\"No information on intel\")"
   ]
  },
  {
   "cell_type": "code",
   "execution_count": 38,
   "id": "206f34ba",
   "metadata": {},
   "outputs": [
    {
     "name": "stdout",
     "output_type": "stream",
     "text": [
      "dict_keys(['amazon', 'apple', 'facebook', 'google', 'netflix', 'tesla'])\n"
     ]
    }
   ],
   "source": [
    "print(hiring_teams.keys())"
   ]
  },
  {
   "cell_type": "code",
   "execution_count": 35,
   "id": "1ed9db8f",
   "metadata": {},
   "outputs": [
    {
     "name": "stdout",
     "output_type": "stream",
     "text": [
      "Total number of hiring teams = 18\n"
     ]
    }
   ],
   "source": [
    "total_ht = 0\n",
    "\n",
    "for num_ht in hiring_teams.values():\n",
    "    total_ht += num_ht\n",
    "    \n",
    "print(\"Total number of hiring teams = {}\".format(total_ht))"
   ]
  },
  {
   "cell_type": "code",
   "execution_count": 36,
   "id": "89bed3d4",
   "metadata": {},
   "outputs": [
    {
     "name": "stdout",
     "output_type": "stream",
     "text": [
      "amazon 4\n",
      "apple 4\n",
      "facebook 1\n",
      "google 5\n",
      "netflix 1\n",
      "tesla 3\n"
     ]
    }
   ],
   "source": [
    "for key, value in hiring_teams.items():\n",
    "    print(key, value)"
   ]
  },
  {
   "cell_type": "code",
   "execution_count": 37,
   "id": "48c9c918",
   "metadata": {},
   "outputs": [
    {
     "name": "stdout",
     "output_type": "stream",
     "text": [
      "amazon 4\n",
      "apple 4\n",
      "facebook 1\n",
      "google 5\n",
      "netflix 1\n",
      "tesla 3\n"
     ]
    }
   ],
   "source": [
    "for item in hiring_teams.items():\n",
    "    # key, value = item \n",
    "    print(item[0], item[1])"
   ]
  }
 ],
 "metadata": {
  "kernelspec": {
   "display_name": "Python 3",
   "language": "python",
   "name": "python3"
  },
  "language_info": {
   "codemirror_mode": {
    "name": "ipython",
    "version": 3
   },
   "file_extension": ".py",
   "mimetype": "text/x-python",
   "name": "python",
   "nbconvert_exporter": "python",
   "pygments_lexer": "ipython3",
   "version": "3.8.8"
  }
 },
 "nbformat": 4,
 "nbformat_minor": 5
}
