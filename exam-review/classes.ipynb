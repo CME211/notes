{
 "cells": [
  {
   "cell_type": "code",
   "execution_count": 1,
   "id": "00bc0005",
   "metadata": {},
   "outputs": [],
   "source": [
    "class Human:\n",
    "    \"\"\"\n",
    "        class to represent a human and compute BMI using class attributes\n",
    "        \n",
    "        attributes:\n",
    "        -----------\n",
    "        \n",
    "            name : name of the human \n",
    "            \n",
    "            height : height of the person in meters\n",
    "            \n",
    "            weight : weight of the person in kg\n",
    "            \n",
    "        methods:\n",
    "        --------\n",
    "            \n",
    "            compute_bmi : returns Body Mass Index of a person\n",
    "    \"\"\"\n",
    "    def __init__(self, name, height=1.6, weight=65):\n",
    "        self.name = name\n",
    "        self.height = height\n",
    "        self.weight = weight\n",
    "    \n",
    "    def compute_bmi(self):\n",
    "        bmi = self.weight / (self.height ** 2)\n",
    "        bmi = round(bmi, 1)\n",
    "        return bmi"
   ]
  },
  {
   "cell_type": "markdown",
   "id": "bd8b3fc7",
   "metadata": {},
   "source": [
    "## Note that : 'name' is a required argument but 'height' and 'weight' are optional"
   ]
  },
  {
   "cell_type": "code",
   "execution_count": 2,
   "id": "7ff63e5d",
   "metadata": {},
   "outputs": [
    {
     "name": "stdout",
     "output_type": "stream",
     "text": [
      "25.4\n"
     ]
    }
   ],
   "source": [
    "human1 = Human('Becky')\n",
    "\n",
    "print(human1.compute_bmi())"
   ]
  },
  {
   "cell_type": "code",
   "execution_count": 3,
   "id": "34cc224f",
   "metadata": {},
   "outputs": [
    {
     "name": "stdout",
     "output_type": "stream",
     "text": [
      "23.3\n"
     ]
    }
   ],
   "source": [
    "human2 = Human('Stacey', 1.67)\n",
    "\n",
    "print(human2.compute_bmi())"
   ]
  },
  {
   "cell_type": "code",
   "execution_count": 4,
   "id": "98c73bdc",
   "metadata": {},
   "outputs": [
    {
     "name": "stdout",
     "output_type": "stream",
     "text": [
      "23.5\n"
     ]
    }
   ],
   "source": [
    "human3 = Human('Peter', 1.8, 76)\n",
    "\n",
    "print(human3.compute_bmi())"
   ]
  }
 ],
 "metadata": {
  "kernelspec": {
   "display_name": "Python 3",
   "language": "python",
   "name": "python3"
  },
  "language_info": {
   "codemirror_mode": {
    "name": "ipython",
    "version": 3
   },
   "file_extension": ".py",
   "mimetype": "text/x-python",
   "name": "python",
   "nbconvert_exporter": "python",
   "pygments_lexer": "ipython3",
   "version": "3.8.8"
  }
 },
 "nbformat": 4,
 "nbformat_minor": 5
}
